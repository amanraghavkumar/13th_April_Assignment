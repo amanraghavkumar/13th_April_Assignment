{
 "cells": [
  {
   "cell_type": "markdown",
   "id": "d71a157c",
   "metadata": {},
   "source": [
    "Q1. What is Random Forest Regressor?"
   ]
  },
  {
   "cell_type": "markdown",
   "id": "881cdef1",
   "metadata": {},
   "source": [
    "* Random Forest Regressor is an ensemble machine learning algorithm that belongs to the class of decision tree-based models. It is specifically designed for regression tasks, where the goal is to predict a continuous numerical output. Random Forest Regressor combines the predictions of multiple decision trees to improve accuracy and robustness."
   ]
  },
  {
   "cell_type": "markdown",
   "id": "1dd07f15",
   "metadata": {},
   "source": [
    "Q2. How does Random Forest Regressor reduce the risk of overfitting?"
   ]
  },
  {
   "cell_type": "markdown",
   "id": "a8336e8c",
   "metadata": {},
   "source": [
    "* Random Forest Regressor reduces the risk of overfitting by training multiple decision trees on different subsets of the data through bagging (bootstrap aggregating). Each tree is exposed to a random subset of features for each split, which introduces diversity among the trees. The final prediction is an average or a weighted average of the predictions from individual trees, smoothing out overfitting tendencies."
   ]
  },
  {
   "cell_type": "markdown",
   "id": "b72609fd",
   "metadata": {},
   "source": [
    "Q3. How does Random Forest Regressor aggregate the predictions of multiple decision trees?"
   ]
  },
  {
   "cell_type": "markdown",
   "id": "37c0eb36",
   "metadata": {},
   "source": [
    "* Random Forest Regressor aggregates predictions by taking the average (or weighted average) of the predictions made by individual decision trees. Each tree contributes to the final prediction, and the aggregation helps in producing a more robust and accurate result."
   ]
  },
  {
   "cell_type": "markdown",
   "id": "1dfbdc89",
   "metadata": {},
   "source": [
    "Q4. What are the hyperparameters of Random Forest Regressor?"
   ]
  },
  {
   "cell_type": "markdown",
   "id": "1b27b818",
   "metadata": {},
   "source": [
    "* Some key hyperparameters of Random Forest Regressor include:\n",
    "1. n_estimators: Number of decision trees in the ensemble.\n",
    "2. max_depth: Maximum depth of each decision tree.\n",
    "3. min_samples_split: Minimum number of samples required to split an internal node.\n",
    "4. min_samples_leaf: Minimum number of samples required to be at a leaf node.\n",
    "5. max_features: The number of features to consider when looking for the best split.\n"
   ]
  },
  {
   "cell_type": "markdown",
   "id": "18522548",
   "metadata": {},
   "source": [
    "Q5. What is the difference between Random Forest Regressor and Decision Tree Regressor?"
   ]
  },
  {
   "cell_type": "markdown",
   "id": "182ebf41",
   "metadata": {},
   "source": [
    "* Decision Tree Regressor: A single decision tree is used for regression.\n",
    "* Random Forest Regressor: Multiple decision trees are combined through bagging, introducing randomness in feature selection and aggregating their predictions."
   ]
  },
  {
   "cell_type": "markdown",
   "id": "2ad44a97",
   "metadata": {},
   "source": [
    "Q6. What are the advantages and disadvantages of Random Forest Regressor?"
   ]
  },
  {
   "cell_type": "markdown",
   "id": "d0a7733f",
   "metadata": {},
   "source": [
    "Advantages:\n",
    "\n",
    "Effective in handling high-dimensional data.\n",
    "Reduces overfitting.\n",
    "Robust performance on various types of datasets.\n",
    "Requires minimal feature engineering.\n",
    "\n",
    "Disadvantages:\n",
    "\n",
    "Less interpretable compared to individual decision trees.\n",
    "May be computationally expensive for large datasets.\n",
    "Tends to have a black-box nature."
   ]
  },
  {
   "cell_type": "markdown",
   "id": "f54996da",
   "metadata": {},
   "source": [
    "Q7. What is the output of Random Forest Regressor?"
   ]
  },
  {
   "cell_type": "markdown",
   "id": "8ec10c2b",
   "metadata": {},
   "source": [
    "* The output of a Random Forest Regressor is a continuous numerical prediction. For each input instance, the model provides a predicted value based on the aggregation of predictions from multiple decision trees."
   ]
  },
  {
   "cell_type": "markdown",
   "id": "4c46b5ca",
   "metadata": {},
   "source": [
    "Q8. Can Random Forest Regressor be used for classification tasks?"
   ]
  },
  {
   "cell_type": "markdown",
   "id": "4ce420c8",
   "metadata": {},
   "source": [
    "* While Random Forest Regressor is designed for regression tasks, a similar algorithm called Random Forest Classifier is used for classification tasks. The Random Forest Classifier, like the Regressor, combines the predictions of multiple decision trees but is tailored for predicting categorical outcomes."
   ]
  },
  {
   "cell_type": "code",
   "execution_count": null,
   "id": "423bf8fc",
   "metadata": {},
   "outputs": [],
   "source": []
  }
 ],
 "metadata": {
  "kernelspec": {
   "display_name": "Python 3 (ipykernel)",
   "language": "python",
   "name": "python3"
  },
  "language_info": {
   "codemirror_mode": {
    "name": "ipython",
    "version": 3
   },
   "file_extension": ".py",
   "mimetype": "text/x-python",
   "name": "python",
   "nbconvert_exporter": "python",
   "pygments_lexer": "ipython3",
   "version": "3.10.9"
  }
 },
 "nbformat": 4,
 "nbformat_minor": 5
}
